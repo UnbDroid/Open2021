{
 "cells": [
  {
   "cell_type": "markdown",
   "metadata": {},
   "source": [
    "        NODE\n",
    " which we call the ''key'' node may also have additional information\n",
    " whould addition 'especie', 'genero', 'familia' -animalia, mamifero"
   ]
  },
  {
   "cell_type": "markdown",
   "metadata": {},
   "source": [
    "        EDGE (borda ou aresta)\n",
    "An edge connects two nodes to show that there is a relationship between them. Every node (except the root)\n"
   ]
  },
  {
   "cell_type": "markdown",
   "metadata": {},
   "source": [
    "        PATH\n",
    "A path is an ordered list of nodes that are connected by edges. For example, Mammal → Carnivora → Felidae → Felis → Domestica is a path."
   ]
  },
  {
   "cell_type": "markdown",
   "metadata": {},
   "source": [
    "        CHILDREN\n",
    "The set of nodes c that have incoming edges from the same node to are said to be the children of that node"
   ]
  },
  {
   "cell_type": "markdown",
   "metadata": {},
   "source": [
    "        PARENT\n",
    "A node is the parent of all the nodes it connects to with outgoing edges"
   ]
  },
  {
   "cell_type": "markdown",
   "metadata": {},
   "source": [
    "    SIBLING\n",
    "Nodes in the tree that are children of the same parent are said to be siblings."
   ]
  },
  {
   "cell_type": "markdown",
   "metadata": {},
   "source": [
    "    HEIGHT\n",
    "count edges starting in root until the one beloow node(leaf node)"
   ]
  },
  {
   "cell_type": "markdown",
   "metadata": {},
   "source": [
    "BINARY TREE IS A PROPERTIES: is says: if each node in the tree has a maximum of 2 siblig, the tree is a binary tree  \n"
   ]
  },
  {
   "cell_type": "markdown",
   "metadata": {},
   "source": [
    "CREATING A TREE:\n",
    "            [A]\n",
    "            /   \\\n",
    "        [B]     [C]\n",
    "        /\\        |\n",
    "    [D]  [E]     [F] "
   ]
  },
  {
   "cell_type": "code",
   "execution_count": 29,
   "metadata": {},
   "outputs": [
    {
     "name": "stdout",
     "output_type": "stream",
     "text": [
      "['a', ['b', ['d', [], []], ['e', [], []]], ['c', ['f', [], []], []]]\n"
     ]
    }
   ],
   "source": [
    "myTree=['a', #rott # elemento 0\n",
    "    ['b' , #left subtree   #1 elemento da lista\n",
    "       ['d', [], []], \n",
    "       ['e', [], []]  ], #left subtree close here\n",
    "    ['c', #right subtree #elemento 2\n",
    "        ['f',[],[]   ],\n",
    "        [] ] #right subtree #right subtree close here\n",
    "    ] #root close here\n",
    "print(myTree)"
   ]
  },
  {
   "cell_type": "code",
   "execution_count": null,
   "metadata": {},
   "outputs": [
    {
     "name": "stdout",
     "output_type": "stream",
     "text": [
      "['a', [], []]\n",
      "sub arvore esquerda []\n",
      "raiz  a\n",
      "sub arvore direita []\n",
      "['a', ['cuzao', [], []], []]\n",
      "['cuzao', ['bosta', [], []], []]\n",
      "['a', ['cuzao', ['bosta', [], []], []], []]\n"
     ]
    }
   ],
   "source": [
    "def binarytree(r):\n",
    "    return [r, [], []]\n",
    "\n",
    "\n",
    "\n",
    "def insertLEFT(root, newbranch):\n",
    "    t = root.pop(1)\n",
    "    if len(t)>1:\n",
    "        root.insert(1, [newbranch, t, []])\n",
    "    else:\n",
    "        root.insert(1, [newbranch, [], []])\n",
    "    return root\n",
    "myTree = binarytree('a')\n",
    "print(myTree)\n",
    "print('sub arvore esquerda', myTree[1])\n",
    "print('raiz ', myTree[0])\n",
    "print('sub arvore direita', myTree[2])\n",
    "print(insertLEFT(myTree,'cuzao'))\n",
    "print(insertLEFT(myTree[1], 'bosta'))\n",
    "print(myTree)\n",
    "\n"
   ]
  },
  {
   "cell_type": "code",
   "execution_count": 44,
   "metadata": {},
   "outputs": [
    {
     "name": "stdout",
     "output_type": "stream",
     "text": [
      "['*', [], []]\n",
      "['*', [], []]\n",
      "['*', [], []]\n",
      "['*', [], ['direita', [], []]]\n"
     ]
    }
   ],
   "source": [
    "def binarytree(r):\n",
    "    return [r, [], []]\n",
    "\n",
    "myTree = ['a', ['b', ['d',[],[]], ['e',[],[]] ], ['c', ['f',[],[]], []] ]\n",
    "\n",
    "\n",
    "def Esquerda(no, elemento):  \n",
    "    removido = no.pop(1) #checar se no que eu apaguei, ja tem alguma coisa dentro\n",
    "    if len(removido)>1:\n",
    "        no.insert(1, [elemento, removido, []])\n",
    "    else:\n",
    "        no.insert(1, [elemento, [], [] ])\n",
    "    return no\n",
    "\n",
    "\n",
    "myTree= binarytree('*')\n",
    "print(myTree)\n",
    "#Esquerda(myTree, 'b'\n",
    "print(myTree)\n",
    "#Esquerda(myTree[1], 'c')\n",
    "print(myTree)\n",
    "#Esquerda(myTree[1][1], 'd')\n",
    "def Direita(root, newbranch):\n",
    "    b = root.pop(2)\n",
    "    if len(b)>1:\n",
    "        root.insert(2, [newbranch, [], b])\n",
    "    else:\n",
    "        root.insert(2, [newbranch, [], []])\n",
    "Direita(myTree, 'direita')\n",
    "print(myTree)"
   ]
  }
 ],
 "metadata": {
  "interpreter": {
   "hash": "916dbcbb3f70747c44a77c7bcd40155683ae19c65e1c03b4aa3499c5328201f1"
  },
  "kernelspec": {
   "display_name": "Python 3.8.10 64-bit",
   "name": "python3"
  },
  "language_info": {
   "codemirror_mode": {
    "name": "ipython",
    "version": 3
   },
   "file_extension": ".py",
   "mimetype": "text/x-python",
   "name": "python",
   "nbconvert_exporter": "python",
   "pygments_lexer": "ipython3",
   "version": "3.8.10"
  },
  "orig_nbformat": 4
 },
 "nbformat": 4,
 "nbformat_minor": 2
}
